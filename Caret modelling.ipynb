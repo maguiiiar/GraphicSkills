{
 "cells": [
  {
   "cell_type": "code",
   "execution_count": 31,
   "metadata": {},
   "outputs": [
    {
     "name": "stderr",
     "output_type": "stream",
     "text": [
      "Warning message:\n",
      "\"package 'DMwR' is in use and will not be installed\""
     ]
    },
    {
     "name": "stdout",
     "output_type": "stream",
     "text": [
      "package 'scorecard' successfully unpacked and MD5 sums checked\n",
      "\n",
      "The downloaded binary packages are in\n",
      "\tD:\\Users\\sb044936\\AppData\\Local\\Temp\\Rtmp6Lr5S9\\downloaded_packages\n"
     ]
    },
    {
     "name": "stderr",
     "output_type": "stream",
     "text": [
      "Warning message:\n",
      "\"package 'ROSE' is in use and will not be installed\""
     ]
    },
    {
     "name": "stdout",
     "output_type": "stream",
     "text": [
      "package 'scorecard' successfully unpacked and MD5 sums checked\n",
      "\n",
      "The downloaded binary packages are in\n",
      "\tD:\\Users\\sb044936\\AppData\\Local\\Temp\\Rtmp6Lr5S9\\downloaded_packages\n"
     ]
    }
   ],
   "source": [
    "install.packages(\"DMwR\", repos='http://cran.us.r-project.org')\n",
    "install.packages(\"scorecard\", repos='http://cran.us.r-project.org')\n",
    "install.packages(\"ROSE\", repos='http://cran.us.r-project.org')\n",
    "install.packages(\"scorecard\", repos='http://cran.us.r-project.org')"
   ]
  },
  {
   "cell_type": "code",
   "execution_count": 32,
   "metadata": {},
   "outputs": [
    {
     "name": "stderr",
     "output_type": "stream",
     "text": [
      "Loading required package: scorecard\n",
      "Warning message:\n",
      "\"package 'scorecard' was built under R version 3.5.3\""
     ]
    }
   ],
   "source": [
    "require(dplyr)\n",
    "require(scorecard)\n",
    "require(ggplot2)\n",
    "require(stringr)\n",
    "require(caret)\n",
    "require(foreach)\n",
    "require(ROSE)\n",
    "require(DMwR)\n",
    "require(data.table)"
   ]
  },
  {
   "cell_type": "code",
   "execution_count": 8,
   "metadata": {},
   "outputs": [],
   "source": [
    "setwd(\"D:/Users/sb044936/Desktop/Jupyter\")\n",
    "db_woe = fread(\"db_woe.csv\", sep = \";\", dec = \",\")\n",
    "db_raw = fread(\"db_raw.csv\", sep = \";\", dec = \",\")\n",
    "db_woe_valid = fread(\"db_woe_valid.csv\", sep = \";\", dec = \",\")\n",
    "\n",
    "dbs = list(\"db_woe\" = db_woe,\n",
    "           \"db_raw\" = db_raw,\n",
    "           \"db_woe_valid\" = db_woe_valid)"
   ]
  },
  {
   "cell_type": "code",
   "execution_count": 7,
   "metadata": {},
   "outputs": [
    {
     "data": {
      "text/html": [
       "<table>\n",
       "<thead><tr><th scope=col>target</th><th scope=col>nome_mun_loja_woe</th><th scope=col>nome_est_loja_woe</th><th scope=col>prazo_contrato_woe</th><th scope=col>vlr_tx_venda_woe</th><th scope=col>vlr_total_financiado_woe</th><th scope=col>vlr_total_bens_woe</th><th scope=col>vlr_liberado_woe</th><th scope=col>vlr_a_vencer_woe</th><th scope=col>vlr_vencido_woe</th><th scope=col>...</th><th scope=col>perc_pg_atr_16_30_woe</th><th scope=col>perc_pg_atr_1_60_woe</th><th scope=col>perc_a_vencer_finan_woe</th><th scope=col>perc_pg_atr_61_360_woe</th><th scope=col>perc_pg_atr_11_60_woe</th><th scope=col>perc_pg_finan_woe</th><th scope=col>perc_pg_atr_12_1_woe</th><th scope=col>perc_pg_atr_7_1_woe</th><th scope=col>tempo_ate_primeiro_atr_woe</th><th scope=col>perc_pg_atr_4_1_woe</th></tr></thead>\n",
       "<tbody>\n",
       "\t<tr><td>good       </td><td>-4.56771553</td><td>-0.35355672</td><td> 0.06398984</td><td>0.3318571  </td><td>-0.06030023</td><td>-0.02712031</td><td> 0.1569530 </td><td>-0.24078666</td><td>-0.02858231</td><td>...        </td><td>-0.1639772 </td><td> 0.2501840 </td><td>-0.2002151 </td><td> 0.18602589</td><td> 0.0434710 </td><td>-0.1596337 </td><td>-1.7019737 </td><td>-0.78155814</td><td>0.02281468 </td><td>-0.1975738 </td></tr>\n",
       "\t<tr><td>bad        </td><td> 0.09147878</td><td> 0.08753099</td><td> 0.06398984</td><td>0.2755788  </td><td> 0.38045958</td><td> 0.19189101</td><td> 0.3286331 </td><td>-0.07479759</td><td> 0.38562067</td><td>...        </td><td> 0.1552311 </td><td> 0.1538729 </td><td>-0.2002151 </td><td>-0.07228158</td><td> 0.1538729 </td><td>-0.1596337 </td><td> 0.1538729 </td><td> 0.15387294</td><td>0.15387294 </td><td> 0.1538729 </td></tr>\n",
       "\t<tr><td>good       </td><td> 0.09147878</td><td>-0.35355672</td><td>-0.02102288</td><td>0.1201113  </td><td> 0.38045958</td><td> 0.29433181</td><td> 0.3286331 </td><td>-0.24078666</td><td>-0.79460398</td><td>...        </td><td> 0.1552311 </td><td> 0.1538729 </td><td>-0.2002151 </td><td>-0.07228158</td><td> 0.1538729 </td><td>-0.1596337 </td><td> 0.1538729 </td><td> 0.15387294</td><td>0.15387294 </td><td> 0.1538729 </td></tr>\n",
       "\t<tr><td>good       </td><td> 0.09147878</td><td> 0.08753099</td><td>-0.02102288</td><td>0.1201113  </td><td>-0.22198930</td><td> 0.29433181</td><td>-0.5251074 </td><td>-0.07479759</td><td>-0.27133293</td><td>...        </td><td> 0.1552311 </td><td> 0.1538729 </td><td>-0.2002151 </td><td>-0.07228158</td><td> 0.1538729 </td><td>-0.1596337 </td><td> 0.1538729 </td><td> 0.15387294</td><td>0.15387294 </td><td> 0.1538729 </td></tr>\n",
       "\t<tr><td>good       </td><td> 0.09147878</td><td>-1.23807842</td><td>-0.02102288</td><td>0.2755788  </td><td> 0.38045958</td><td> 0.33542410</td><td> 0.3286331 </td><td>-0.24078666</td><td>-0.79460398</td><td>...        </td><td>-0.1639772 </td><td>-0.5527637 </td><td>-0.2002151 </td><td>-0.07228158</td><td>-0.5237290 </td><td>-0.1596337 </td><td>-1.7019737 </td><td> 0.05161769</td><td>0.14743925 </td><td>-0.1975738 </td></tr>\n",
       "\t<tr><td>good       </td><td> 0.09147878</td><td> 0.08753099</td><td>-0.02102288</td><td>0.2755788  </td><td>-0.34915818</td><td> 0.29433181</td><td>-0.6384573 </td><td>-0.07479759</td><td> 0.38562067</td><td>...        </td><td> 0.1552311 </td><td> 0.1538729 </td><td>-0.2002151 </td><td>-0.07228158</td><td> 0.1538729 </td><td>-0.1596337 </td><td> 0.1538729 </td><td> 0.15387294</td><td>0.15387294 </td><td> 0.1538729 </td></tr>\n",
       "</tbody>\n",
       "</table>\n"
      ],
      "text/latex": [
       "\\begin{tabular}{r|llllllllllllllllllllllllllllllllllllllllllllllllllllllllllllllllllllllllllllllllllllllllllll}\n",
       " target & nome\\_mun\\_loja\\_woe & nome\\_est\\_loja\\_woe & prazo\\_contrato\\_woe & vlr\\_tx\\_venda\\_woe & vlr\\_total\\_financiado\\_woe & vlr\\_total\\_bens\\_woe & vlr\\_liberado\\_woe & vlr\\_a\\_vencer\\_woe & vlr\\_vencido\\_woe & ... & perc\\_pg\\_atr\\_16\\_30\\_woe & perc\\_pg\\_atr\\_1\\_60\\_woe & perc\\_a\\_vencer\\_finan\\_woe & perc\\_pg\\_atr\\_61\\_360\\_woe & perc\\_pg\\_atr\\_11\\_60\\_woe & perc\\_pg\\_finan\\_woe & perc\\_pg\\_atr\\_12\\_1\\_woe & perc\\_pg\\_atr\\_7\\_1\\_woe & tempo\\_ate\\_primeiro\\_atr\\_woe & perc\\_pg\\_atr\\_4\\_1\\_woe\\\\\n",
       "\\hline\n",
       "\t good        & -4.56771553 & -0.35355672 &  0.06398984 & 0.3318571   & -0.06030023 & -0.02712031 &  0.1569530  & -0.24078666 & -0.02858231 & ...         & -0.1639772  &  0.2501840  & -0.2002151  &  0.18602589 &  0.0434710  & -0.1596337  & -1.7019737  & -0.78155814 & 0.02281468  & -0.1975738 \\\\\n",
       "\t bad         &  0.09147878 &  0.08753099 &  0.06398984 & 0.2755788   &  0.38045958 &  0.19189101 &  0.3286331  & -0.07479759 &  0.38562067 & ...         &  0.1552311  &  0.1538729  & -0.2002151  & -0.07228158 &  0.1538729  & -0.1596337  &  0.1538729  &  0.15387294 & 0.15387294  &  0.1538729 \\\\\n",
       "\t good        &  0.09147878 & -0.35355672 & -0.02102288 & 0.1201113   &  0.38045958 &  0.29433181 &  0.3286331  & -0.24078666 & -0.79460398 & ...         &  0.1552311  &  0.1538729  & -0.2002151  & -0.07228158 &  0.1538729  & -0.1596337  &  0.1538729  &  0.15387294 & 0.15387294  &  0.1538729 \\\\\n",
       "\t good        &  0.09147878 &  0.08753099 & -0.02102288 & 0.1201113   & -0.22198930 &  0.29433181 & -0.5251074  & -0.07479759 & -0.27133293 & ...         &  0.1552311  &  0.1538729  & -0.2002151  & -0.07228158 &  0.1538729  & -0.1596337  &  0.1538729  &  0.15387294 & 0.15387294  &  0.1538729 \\\\\n",
       "\t good        &  0.09147878 & -1.23807842 & -0.02102288 & 0.2755788   &  0.38045958 &  0.33542410 &  0.3286331  & -0.24078666 & -0.79460398 & ...         & -0.1639772  & -0.5527637  & -0.2002151  & -0.07228158 & -0.5237290  & -0.1596337  & -1.7019737  &  0.05161769 & 0.14743925  & -0.1975738 \\\\\n",
       "\t good        &  0.09147878 &  0.08753099 & -0.02102288 & 0.2755788   & -0.34915818 &  0.29433181 & -0.6384573  & -0.07479759 &  0.38562067 & ...         &  0.1552311  &  0.1538729  & -0.2002151  & -0.07228158 &  0.1538729  & -0.1596337  &  0.1538729  &  0.15387294 & 0.15387294  &  0.1538729 \\\\\n",
       "\\end{tabular}\n"
      ],
      "text/markdown": [
       "\n",
       "target | nome_mun_loja_woe | nome_est_loja_woe | prazo_contrato_woe | vlr_tx_venda_woe | vlr_total_financiado_woe | vlr_total_bens_woe | vlr_liberado_woe | vlr_a_vencer_woe | vlr_vencido_woe | ... | perc_pg_atr_16_30_woe | perc_pg_atr_1_60_woe | perc_a_vencer_finan_woe | perc_pg_atr_61_360_woe | perc_pg_atr_11_60_woe | perc_pg_finan_woe | perc_pg_atr_12_1_woe | perc_pg_atr_7_1_woe | tempo_ate_primeiro_atr_woe | perc_pg_atr_4_1_woe | \n",
       "|---|---|---|---|---|---|\n",
       "| good        | -4.56771553 | -0.35355672 |  0.06398984 | 0.3318571   | -0.06030023 | -0.02712031 |  0.1569530  | -0.24078666 | -0.02858231 | ...         | -0.1639772  |  0.2501840  | -0.2002151  |  0.18602589 |  0.0434710  | -0.1596337  | -1.7019737  | -0.78155814 | 0.02281468  | -0.1975738  | \n",
       "| bad         |  0.09147878 |  0.08753099 |  0.06398984 | 0.2755788   |  0.38045958 |  0.19189101 |  0.3286331  | -0.07479759 |  0.38562067 | ...         |  0.1552311  |  0.1538729  | -0.2002151  | -0.07228158 |  0.1538729  | -0.1596337  |  0.1538729  |  0.15387294 | 0.15387294  |  0.1538729  | \n",
       "| good        |  0.09147878 | -0.35355672 | -0.02102288 | 0.1201113   |  0.38045958 |  0.29433181 |  0.3286331  | -0.24078666 | -0.79460398 | ...         |  0.1552311  |  0.1538729  | -0.2002151  | -0.07228158 |  0.1538729  | -0.1596337  |  0.1538729  |  0.15387294 | 0.15387294  |  0.1538729  | \n",
       "| good        |  0.09147878 |  0.08753099 | -0.02102288 | 0.1201113   | -0.22198930 |  0.29433181 | -0.5251074  | -0.07479759 | -0.27133293 | ...         |  0.1552311  |  0.1538729  | -0.2002151  | -0.07228158 |  0.1538729  | -0.1596337  |  0.1538729  |  0.15387294 | 0.15387294  |  0.1538729  | \n",
       "| good        |  0.09147878 | -1.23807842 | -0.02102288 | 0.2755788   |  0.38045958 |  0.33542410 |  0.3286331  | -0.24078666 | -0.79460398 | ...         | -0.1639772  | -0.5527637  | -0.2002151  | -0.07228158 | -0.5237290  | -0.1596337  | -1.7019737  |  0.05161769 | 0.14743925  | -0.1975738  | \n",
       "| good        |  0.09147878 |  0.08753099 | -0.02102288 | 0.2755788   | -0.34915818 |  0.29433181 | -0.6384573  | -0.07479759 |  0.38562067 | ...         |  0.1552311  |  0.1538729  | -0.2002151  | -0.07228158 |  0.1538729  | -0.1596337  |  0.1538729  |  0.15387294 | 0.15387294  |  0.1538729  | \n",
       "\n",
       "\n"
      ],
      "text/plain": [
       "  target nome_mun_loja_woe nome_est_loja_woe prazo_contrato_woe\n",
       "1 good   -4.56771553       -0.35355672        0.06398984       \n",
       "2 bad     0.09147878        0.08753099        0.06398984       \n",
       "3 good    0.09147878       -0.35355672       -0.02102288       \n",
       "4 good    0.09147878        0.08753099       -0.02102288       \n",
       "5 good    0.09147878       -1.23807842       -0.02102288       \n",
       "6 good    0.09147878        0.08753099       -0.02102288       \n",
       "  vlr_tx_venda_woe vlr_total_financiado_woe vlr_total_bens_woe vlr_liberado_woe\n",
       "1 0.3318571        -0.06030023              -0.02712031         0.1569530      \n",
       "2 0.2755788         0.38045958               0.19189101         0.3286331      \n",
       "3 0.1201113         0.38045958               0.29433181         0.3286331      \n",
       "4 0.1201113        -0.22198930               0.29433181        -0.5251074      \n",
       "5 0.2755788         0.38045958               0.33542410         0.3286331      \n",
       "6 0.2755788        -0.34915818               0.29433181        -0.6384573      \n",
       "  vlr_a_vencer_woe vlr_vencido_woe ... perc_pg_atr_16_30_woe\n",
       "1 -0.24078666      -0.02858231     ... -0.1639772           \n",
       "2 -0.07479759       0.38562067     ...  0.1552311           \n",
       "3 -0.24078666      -0.79460398     ...  0.1552311           \n",
       "4 -0.07479759      -0.27133293     ...  0.1552311           \n",
       "5 -0.24078666      -0.79460398     ... -0.1639772           \n",
       "6 -0.07479759       0.38562067     ...  0.1552311           \n",
       "  perc_pg_atr_1_60_woe perc_a_vencer_finan_woe perc_pg_atr_61_360_woe\n",
       "1  0.2501840           -0.2002151               0.18602589           \n",
       "2  0.1538729           -0.2002151              -0.07228158           \n",
       "3  0.1538729           -0.2002151              -0.07228158           \n",
       "4  0.1538729           -0.2002151              -0.07228158           \n",
       "5 -0.5527637           -0.2002151              -0.07228158           \n",
       "6  0.1538729           -0.2002151              -0.07228158           \n",
       "  perc_pg_atr_11_60_woe perc_pg_finan_woe perc_pg_atr_12_1_woe\n",
       "1  0.0434710            -0.1596337        -1.7019737          \n",
       "2  0.1538729            -0.1596337         0.1538729          \n",
       "3  0.1538729            -0.1596337         0.1538729          \n",
       "4  0.1538729            -0.1596337         0.1538729          \n",
       "5 -0.5237290            -0.1596337        -1.7019737          \n",
       "6  0.1538729            -0.1596337         0.1538729          \n",
       "  perc_pg_atr_7_1_woe tempo_ate_primeiro_atr_woe perc_pg_atr_4_1_woe\n",
       "1 -0.78155814         0.02281468                 -0.1975738         \n",
       "2  0.15387294         0.15387294                  0.1538729         \n",
       "3  0.15387294         0.15387294                  0.1538729         \n",
       "4  0.15387294         0.15387294                  0.1538729         \n",
       "5  0.05161769         0.14743925                 -0.1975738         \n",
       "6  0.15387294         0.15387294                  0.1538729         "
      ]
     },
     "metadata": {},
     "output_type": "display_data"
    }
   ],
   "source": [
    "head(db_woe)"
   ]
  },
  {
   "cell_type": "code",
   "execution_count": 10,
   "metadata": {},
   "outputs": [],
   "source": [
    "# repeated cross validation: \n",
    "control <- trainControl(method=\"repeatedcv\",\n",
    "                        classProbs = TRUE,\n",
    "                        summaryFunction = twoClassSummary,\n",
    "                        savePredictions = \"all\", number = 10, repeats = 3)"
   ]
  },
  {
   "cell_type": "code",
   "execution_count": 11,
   "metadata": {},
   "outputs": [
    {
     "name": "stderr",
     "output_type": "stream",
     "text": [
      "Warning message in train.default(x, y, weights = w, ...):\n",
      "\"The metric \"Accuracy\" was not in the result set. ROC will be used instead.\""
     ]
    }
   ],
   "source": [
    "set.seed(7)\n",
    "lasso.model.caret <- caret::train(target ~ ., data = dbs$db_woe,\n",
    "                                  method = \"glmnet\", family = \"binomial\",\n",
    "                                  trControl=control,\n",
    "                                  tuneGrid = expand.grid(alpha = 1,\n",
    "                                                         lambda = seq(0.001,1, length = 30)))"
   ]
  },
  {
   "cell_type": "code",
   "execution_count": 17,
   "metadata": {},
   "outputs": [
    {
     "name": "stderr",
     "output_type": "stream",
     "text": [
      "Warning message in train.default(x, y, weights = w, ...):\n",
      "\"The metric \"Accuracy\" was not in the result set. ROC will be used instead.\""
     ]
    }
   ],
   "source": [
    "control$sampling <- \"smote\"\n",
    "model.smote <- caret::train(target ~ ., data = dbs$db_woe,\n",
    "                            method = \"glmnet\", family = \"binomial\",\n",
    "                            trControl=control,\n",
    "                            tuneGrid = expand.grid(alpha = 1,\n",
    "                                                   lambda = seq(0.001,1, length = 20)))"
   ]
  },
  {
   "cell_type": "code",
   "execution_count": 18,
   "metadata": {},
   "outputs": [
    {
     "name": "stderr",
     "output_type": "stream",
     "text": [
      "Warning message in train.default(x, y, weights = w, ...):\n",
      "\"The metric \"Accuracy\" was not in the result set. ROC will be used instead.\""
     ]
    }
   ],
   "source": [
    "control$sampling <- \"rose\"\n",
    "model.rose = caret::train(target ~ ., data = dbs$db_woe,\n",
    "                          method = \"glmnet\", family = \"binomial\",\n",
    "                          trControl=control,\n",
    "                          tuneGrid = expand.grid(alpha = 1,\n",
    "                                                 lambda = seq(0.001,1, length = 20)))"
   ]
  },
  {
   "cell_type": "code",
   "execution_count": 19,
   "metadata": {},
   "outputs": [
    {
     "name": "stderr",
     "output_type": "stream",
     "text": [
      "Warning message in train.default(x, y, weights = w, ...):\n",
      "\"The metric \"Accuracy\" was not in the result set. ROC will be used instead.\""
     ]
    }
   ],
   "source": [
    "control$sampling <- \"up\"\n",
    "model.up = caret::train(target ~ ., data = dbs$db_woe,\n",
    "                        method = \"glmnet\", family = \"binomial\",\n",
    "                        trControl=control,\n",
    "                        tuneGrid = expand.grid(alpha = 1,\n",
    "                                               lambda = seq(0.001,1, length = 20)))"
   ]
  },
  {
   "cell_type": "code",
   "execution_count": 20,
   "metadata": {},
   "outputs": [
    {
     "name": "stderr",
     "output_type": "stream",
     "text": [
      "Warning message in train.default(x, y, weights = w, ...):\n",
      "\"The metric \"Accuracy\" was not in the result set. ROC will be used instead.\""
     ]
    }
   ],
   "source": [
    "control$sampling <- \"down\"\n",
    "model.down = caret::train(target ~ ., data = dbs$db_woe,\n",
    "                          method = \"glmnet\", family = \"binomial\",\n",
    "                          trControl=control,\n",
    "                          tuneGrid = expand.grid(alpha = 1,\n",
    "                                                 lambda = seq(0.001,1, length = 20)))"
   ]
  },
  {
   "cell_type": "code",
   "execution_count": 25,
   "metadata": {},
   "outputs": [
    {
     "data": {
      "text/plain": [
       "\n",
       "Call:\n",
       "summary.resamples(object = results)\n",
       "\n",
       "Models: LASSO, SMOTE, ROSE, UP, DOWN \n",
       "Number of resamples: 30 \n",
       "\n",
       "ROC \n",
       "           Min.   1st Qu.    Median      Mean   3rd Qu.      Max. NA's\n",
       "LASSO 0.9245505 0.9348375 0.9415014 0.9424870 0.9487420 0.9688705    0\n",
       "SMOTE 0.9017289 0.9325205 0.9445479 0.9407089 0.9500355 0.9630165    0\n",
       "ROSE  0.5000000 0.5000000 0.5000000 0.5000000 0.5000000 0.5000000    0\n",
       "UP    0.9170752 0.9337675 0.9404069 0.9411451 0.9445997 0.9694775    0\n",
       "DOWN  0.9146006 0.9285139 0.9380055 0.9372432 0.9443372 0.9616874    0\n",
       "\n",
       "Sens \n",
       "           Min.   1st Qu.    Median      Mean   3rd Qu.      Max. NA's\n",
       "LASSO 0.5500000 0.6333333 0.6806497 0.6773540 0.7291667 0.7966102    0\n",
       "SMOTE 0.7833333 0.8305085 0.8583333 0.8605556 0.8958333 0.9500000    0\n",
       "ROSE  0.0000000 0.0000000 1.0000000 0.5666667 1.0000000 1.0000000    0\n",
       "UP    0.8000000 0.8666667 0.8833333 0.8902637 0.9166667 0.9661017    0\n",
       "DOWN  0.8000000 0.8666667 0.8983051 0.8901695 0.9166667 0.9500000    0\n",
       "\n",
       "Spec \n",
       "           Min.   1st Qu.    Median      Mean   3rd Qu.      Max. NA's\n",
       "LASSO 0.9090909 0.9389896 0.9585062 0.9544586 0.9668050 0.9875519    0\n",
       "SMOTE 0.8347107 0.8760331 0.8819914 0.8852977 0.8953397 0.9214876    0\n",
       "ROSE  0.0000000 0.0000000 0.0000000 0.4333333 1.0000000 1.0000000    0\n",
       "UP    0.8264463 0.8512397 0.8592126 0.8589429 0.8672199 0.8925620    0\n",
       "DOWN  0.7933884 0.8300513 0.8405833 0.8437588 0.8620332 0.8962656    0\n"
      ]
     },
     "metadata": {},
     "output_type": "display_data"
    },
    {
     "data": {},
     "metadata": {},
     "output_type": "display_data"
    },
    {
     "data": {
      "image/png": "[encoded data removed]",
      "text/plain": [
       "plot without title"
      ]
     },
     "metadata": {},
     "output_type": "display_data"
    }
   ],
   "source": [
    "results <- caret::resamples(list(LASSO = lasso.model.caret,\n",
    "                                 SMOTE = model.smote,\n",
    "                                 ROSE = model.rose,\n",
    "                                 UP = model.up,\n",
    "                                 DOWN = model.down))\n",
    "\n",
    "# summarise the distributions\n",
    "summary(results)\n",
    "bwplot(results)"
   ]
  },
  {
   "cell_type": "code",
   "execution_count": 29,
   "metadata": {},
   "outputs": [
    {
     "data": {
      "text/html": [
       "<table>\n",
       "<thead><tr><th scope=col>importance</th><th scope=col>variable</th></tr></thead>\n",
       "<tbody>\n",
       "\t<tr><td>100.00                </td><td>nome_modelo_woe       </td></tr>\n",
       "\t<tr><td> 93.68                </td><td>profissao_cli_woe     </td></tr>\n",
       "\t<tr><td> 74.11                </td><td>nome_mun_loja_woe     </td></tr>\n",
       "\t<tr><td> 53.14                </td><td>qtd_pg_atr_11_60_woe  </td></tr>\n",
       "\t<tr><td> 46.72                </td><td>qtd_pg_atr_1_60_woe   </td></tr>\n",
       "\t<tr><td> 13.00                </td><td>vlr_pg_atr_11_30_woe  </td></tr>\n",
       "\t<tr><td>  9.72                </td><td>perc_pg_atr_1_60_woe  </td></tr>\n",
       "\t<tr><td>  8.25                </td><td>qtd_parc_restantes_woe</td></tr>\n",
       "\t<tr><td>  5.27                </td><td>qtd_dias_em_atraso_woe</td></tr>\n",
       "\t<tr><td>  4.38                </td><td>vlr_pg_atr_11_60_woe  </td></tr>\n",
       "</tbody>\n",
       "</table>\n"
      ],
      "text/latex": [
       "\\begin{tabular}{r|ll}\n",
       " importance & variable\\\\\n",
       "\\hline\n",
       "\t 100.00                     & nome\\_modelo\\_woe       \\\\\n",
       "\t  93.68                     & profissao\\_cli\\_woe     \\\\\n",
       "\t  74.11                       & nome\\_mun\\_loja\\_woe     \\\\\n",
       "\t  53.14                           & qtd\\_pg\\_atr\\_11\\_60\\_woe  \\\\\n",
       "\t  46.72                           & qtd\\_pg\\_atr\\_1\\_60\\_woe   \\\\\n",
       "\t  13.00                           & vlr\\_pg\\_atr\\_11\\_30\\_woe  \\\\\n",
       "\t   9.72                           & perc\\_pg\\_atr\\_1\\_60\\_woe  \\\\\n",
       "\t   8.25                       & qtd\\_parc\\_restantes\\_woe\\\\\n",
       "\t   5.27                         & qtd\\_dias\\_em\\_atraso\\_woe\\\\\n",
       "\t   4.38                           & vlr\\_pg\\_atr\\_11\\_60\\_woe  \\\\\n",
       "\\end{tabular}\n"
      ],
      "text/markdown": [
       "\n",
       "importance | variable | \n",
       "|---|---|---|---|---|---|---|---|---|---|\n",
       "| 100.00                 | nome_modelo_woe        | \n",
       "|  93.68                 | profissao_cli_woe      | \n",
       "|  74.11                 | nome_mun_loja_woe      | \n",
       "|  53.14                 | qtd_pg_atr_11_60_woe   | \n",
       "|  46.72                 | qtd_pg_atr_1_60_woe    | \n",
       "|  13.00                 | vlr_pg_atr_11_30_woe   | \n",
       "|   9.72                 | perc_pg_atr_1_60_woe   | \n",
       "|   8.25                 | qtd_parc_restantes_woe | \n",
       "|   5.27                 | qtd_dias_em_atraso_woe | \n",
       "|   4.38                 | vlr_pg_atr_11_60_woe   | \n",
       "\n",
       "\n"
      ],
      "text/plain": [
       "   importance variable              \n",
       "1  100.00     nome_modelo_woe       \n",
       "2   93.68     profissao_cli_woe     \n",
       "3   74.11     nome_mun_loja_woe     \n",
       "4   53.14     qtd_pg_atr_11_60_woe  \n",
       "5   46.72     qtd_pg_atr_1_60_woe   \n",
       "6   13.00     vlr_pg_atr_11_30_woe  \n",
       "7    9.72     perc_pg_atr_1_60_woe  \n",
       "8    8.25     qtd_parc_restantes_woe\n",
       "9    5.27     qtd_dias_em_atraso_woe\n",
       "10   4.38     vlr_pg_atr_11_60_woe  "
      ]
     },
     "metadata": {},
     "output_type": "display_data"
    }
   ],
   "source": [
    "# importance of variables and definition of lambda (filtering least variables as possible)\n",
    "imp = varImp(model.up, lambda = model.up$bestTune$lambda*80)$importance \n",
    "imp$variable = rownames(imp); imp = imp %>% filter(!Overall == 0) %>% arrange(desc(Overall)) %>% mutate(Overall = round(Overall,2))\n",
    "names(imp) = c(\"importance\", \"variable\")\n",
    "imp"
   ]
  },
  {
   "cell_type": "code",
   "execution_count": 40,
   "metadata": {},
   "outputs": [
    {
     "name": "stderr",
     "output_type": "stream",
     "text": [
      "Warning message in preProcess.default(dbs$db_woe_valid, method = \"knnImpute\", k = 5):\n",
      "\"Std. deviations could not be computed for: perc_vnc_renda, perc_pg_atr_360_mais, perc_parc_renda\"Warning message in preProcess.default(dbs$db_woe_valid, method = \"knnImpute\", k = 5):\n",
      "\"These variables have zero variances: qtd_itens, qtd_pg_atr_360_mais, vlr_pg_atr_360_mais, tipo_pessoa_woe, situacao_contrato_woe, vlr_subs_marca_woe, status_contabil_woe, subs_marca_woe, motivo_inad_woe, status_cob_woe\""
     ]
    },
    {
     "ename": "ERROR",
     "evalue": "Error: package RANN is required\n",
     "output_type": "error",
     "traceback": [
      "Error: package RANN is required\nTraceback:\n",
      "1. predict(preproc, dbs$db_woe_valid)",
      "2. predict.preProcess(preproc, dbs$db_woe_valid)",
      "3. apply(hasMiss, 1, nnimp, old = object$data[, object$method$knnImpute, \n .     drop = FALSE], k = object$k, foo = object$knnSummary)",
      "4. FUN(newX[, i], ...)",
      "5. requireNamespaceQuietStop(\"RANN\")",
      "6. stop(paste(\"package\", package, \"is required\"), call. = FALSE)"
     ]
    }
   ],
   "source": [
    "preproc = preProcess(dbs$db_woe_valid, method = \"knnImpute\", k = 5)\n",
    "preproc$method$center = NULL\n",
    "preproc$method$scale = NULL\n",
    "dbs$db_woe_valid <- predict(preproc, dbs$db_woe_valid)\n",
    "\n",
    "table(is.na(dbs$db_woe_valid))\n",
    "\n",
    "pred_results <- predict(model.up, newdata=dbs$db_woe_valid, s =  model.up$bestTune$lambda*80)\n",
    "prob_results <- predict(model.up, newdata=dbs$db_woe_valid, s =  model.up$bestTune$lambda*80, type = \"prob\")\n",
    "\n",
    "dbs$db_woe_valid$target_pred = pred_results\n",
    "dbs$db_woe_valid$target_prob_bad = prob_results$bad\n",
    "dbs$db_woe_valid$target_prob_good = prob_results$good\n",
    "\n",
    "# checking probabilities x target in test database\n",
    "pred <- prediction(probabilities, dbs$test_db_woe$target)\n",
    "\n",
    "# creating vectors with 1 to \"bad\" and 0 to \"good\" for creating dataframe with perf statistics\n",
    "observed.classes.num <- ifelse(dbs$db_woe_valid$target == \"bad\", 1, 0)\n",
    "predicted.classes.num <- ifelse(dbs$db_woe_valid$target_prob_bad == \"bad\", 1, 0)\n",
    "\n",
    "evaluation <- scorecard::perf_eva(label = observed.classes.num, pred = dbs$db_woe_valid$target_prob_bad, show_plot = TRUE)\n",
    "evaluation$confusion_matrix\n",
    "df <- melt(data.frame(evaluation$binomial_metric$dat))\n",
    "names(df) <- c(\"Statistic\", \"Value\")"
   ]
  },
  {
   "cell_type": "code",
   "execution_count": 39,
   "metadata": {},
   "outputs": [
    {
     "ename": "ERROR",
     "evalue": "Error in eval(expr, envir, enclos): objeto 'evaluation' não encontrado\n",
     "output_type": "error",
     "traceback": [
      "Error in eval(expr, envir, enclos): objeto 'evaluation' não encontrado\nTraceback:\n"
     ]
    }
   ],
   "source": [
    "evaluation"
   ]
  },
  {
   "cell_type": "code",
   "execution_count": null,
   "metadata": {},
   "outputs": [],
   "source": []
  }
 ],
 "metadata": {
  "kernelspec": {
   "display_name": "R",
   "language": "R",
   "name": "ir"
  },
  "language_info": {
   "codemirror_mode": "r",
   "file_extension": ".r",
   "mimetype": "text/x-r-source",
   "name": "R",
   "pygments_lexer": "r",
   "version": "3.5.1"
  }
 },
 "nbformat": 4,
 "nbformat_minor": 2
}
